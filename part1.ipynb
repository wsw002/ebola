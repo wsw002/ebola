{
 "cells": [
  {
   "cell_type": "markdown",
   "metadata": {
    "slideshow": {
     "slide_type": "slide"
    }
   },
   "source": [
    "<center><font size=6><b>2014 Ebola Outbreak in West Africa</b></font></center>"
   ]
  },
  {
   "cell_type": "markdown",
   "metadata": {
    "toc": true
   },
   "source": [
    "<h1>Table of Contents<span class=\"tocSkip\"></span></h1>\n",
    "<div class=\"toc\"><ul class=\"toc-item\"><li><span><a href=\"#Background\" data-toc-modified-id=\"Background-1\"><span class=\"toc-item-num\">1&nbsp;&nbsp;</span>Background</a></span></li><li><span><a href=\"#Frequently-asked-questions-on-Ebola-virus-disease\" data-toc-modified-id=\"Frequently-asked-questions-on-Ebola-virus-disease-2\"><span class=\"toc-item-num\">2&nbsp;&nbsp;</span>Frequently asked questions on Ebola virus disease</a></span></li><li><span><a href=\"#Case-Definition-during-the-outbreak-(from-WHO)\" data-toc-modified-id=\"Case-Definition-during-the-outbreak-(from-WHO)-3\"><span class=\"toc-item-num\">3&nbsp;&nbsp;</span>Case Definition during the outbreak (from WHO)</a></span><ul class=\"toc-item\"><li><span><a href=\"#SUSPECTED-CASE\" data-toc-modified-id=\"SUSPECTED-CASE-3.1\"><span class=\"toc-item-num\">3.1&nbsp;&nbsp;</span>SUSPECTED CASE</a></span></li><li><span><a href=\"#PROBABLE-CASE\" data-toc-modified-id=\"PROBABLE-CASE-3.2\"><span class=\"toc-item-num\">3.2&nbsp;&nbsp;</span>PROBABLE CASE</a></span></li><li><span><a href=\"#CONFIRM-CASE\" data-toc-modified-id=\"CONFIRM-CASE-3.3\"><span class=\"toc-item-num\">3.3&nbsp;&nbsp;</span>CONFIRM CASE</a></span></li></ul></li><li><span><a href=\"#Chinese-government-activities\" data-toc-modified-id=\"Chinese-government-activities-4\"><span class=\"toc-item-num\">4&nbsp;&nbsp;</span>Chinese government activities</a></span><ul class=\"toc-item\"><li><span><a href=\"#Offer-cash-and-supplies\" data-toc-modified-id=\"Offer-cash-and-supplies-4.1\"><span class=\"toc-item-num\">4.1&nbsp;&nbsp;</span>Offer cash and supplies</a></span></li><li><span><a href=\"#Prevent-Ebola-back-home\" data-toc-modified-id=\"Prevent-Ebola-back-home-4.2\"><span class=\"toc-item-num\">4.2&nbsp;&nbsp;</span>Prevent Ebola back home</a></span></li><li><span><a href=\"#Dispatch-experts\" data-toc-modified-id=\"Dispatch-experts-4.3\"><span class=\"toc-item-num\">4.3&nbsp;&nbsp;</span>Dispatch experts</a></span></li></ul></li><li><span><a href=\"#Procedure-of-Ebola-outbreak-data-collection,-analysis-and-visualizatio\" data-toc-modified-id=\"Procedure-of-Ebola-outbreak-data-collection,-analysis-and-visualizatio-5\"><span class=\"toc-item-num\">5&nbsp;&nbsp;</span>Procedure of Ebola outbreak data collection, analysis and visualizatio</a></span><ul class=\"toc-item\"><li><span><a href=\"#Roadmap\" data-toc-modified-id=\"Roadmap-5.1\"><span class=\"toc-item-num\">5.1&nbsp;&nbsp;</span>Roadmap</a></span></li><li><span><a href=\"#Basic-info-collection\" data-toc-modified-id=\"Basic-info-collection-5.2\"><span class=\"toc-item-num\">5.2&nbsp;&nbsp;</span>Basic info collection</a></span><ul class=\"toc-item\"><li><span><a href=\"#Population\" data-toc-modified-id=\"Population-5.2.1\"><span class=\"toc-item-num\">5.2.1&nbsp;&nbsp;</span>Population</a></span></li><li><span><a href=\"#Roads,-rivers,-city-and-so-on\" data-toc-modified-id=\"Roads,-rivers,-city-and-so-on-5.2.2\"><span class=\"toc-item-num\">5.2.2&nbsp;&nbsp;</span>Roads, rivers, city and so on</a></span></li><li><span><a href=\"#ETU-in-three-western-countries\" data-toc-modified-id=\"ETU-in-three-western-countries-5.2.3\"><span class=\"toc-item-num\">5.2.3&nbsp;&nbsp;</span>ETU in three western countries</a></span></li></ul></li></ul></li></ul></div>"
   ]
  },
  {
   "cell_type": "code",
   "execution_count": 1,
   "metadata": {},
   "outputs": [
    {
     "data": {
      "text/html": [
       "<style>p,li{font-size:16px;line-height:25px;}</style>"
      ],
      "text/plain": [
       "<IPython.core.display.HTML object>"
      ]
     },
     "execution_count": 1,
     "metadata": {},
     "output_type": "execute_result"
    }
   ],
   "source": [
    "# set font size\n",
    "from IPython.display import HTML\n",
    "style = \"<style>p,li{font-size:16px;line-height:25px;}</style>\"\n",
    "HTML(style)"
   ]
  },
  {
   "cell_type": "markdown",
   "metadata": {
    "slideshow": {
     "slide_type": "slide"
    }
   },
   "source": [
    "# Background"
   ]
  },
  {
   "cell_type": "markdown",
   "metadata": {},
   "source": [
    "<link rel=\"stylesheet\" type=\"text/css\" media=\"all\" href=\"resource/common.css\" />\n",
    "Ebola Virus Disease (EVD) is a rare and deadly disease most commonly affecting people and nonhuman primates (monkeys, gorillas, and chimpanzees). It is caused by an infection with one of five known Ebola virus species, four of which can cause disease in people.\n",
    "\n",
    "Since March 2014, West Africa has experienced the largest outbreak of Ebola in history, with multiple countries affected. As of June 2016, the virus has infected over 28 600 people and caused more than 11 300 deaths\n",
    "\n",
    "The outbreak of EVD severely impacted global public health. During the outbreak, the Chinese Government took quick action by donating money and supplies and by sending a large number of military and civilian medical professionals and public health practitioners to the affected countries to combat the epidemic. "
   ]
  },
  {
   "cell_type": "markdown",
   "metadata": {
    "slideshow": {
     "slide_type": "slide"
    }
   },
   "source": [
    "# Frequently asked questions on Ebola virus disease\n",
    "\n",
    "　　a)\tWhat is Ebola virus disease?  \n",
    "　　b)\tHow do people become infected with the Ebola virus?  \n",
    "　　c)\tWho is most at risk?  \n",
    "　　d)\tWhy are mourners at burial ceremonies considered at risk of contracting Ebola?  \n",
    "　　e)\tWhy are health-care workers at greater risk of catching Ebola?  \n",
    "　　f)\tCan Ebola be transmitted sexually?  \n",
    "　　g)\tWhat are the typical signs and symptoms of Ebola virus infection?  \n",
    "　　h)\tHow long does it take for people to develop symptoms after being infected?  \n",
    "　　i)\tWhen should someone seek medical care?  \n",
    "　　j)\tIs there any treatment for Ebola?  \n",
    "　　k)\tCan people with Ebola be cared for at home?  \n",
    "　　l)\tCan Ebola be prevented?  \n",
    "　　m)\tIs there an Ebola vaccine?  \n"
   ]
  },
  {
   "cell_type": "markdown",
   "metadata": {},
   "source": [
    "#  Case Definition during the outbreak (from WHO)\n",
    "## SUSPECTED CASE  \n",
    "1.\tAny person, alive or dead, suffering or having suffered from a sudden onset of high fever and having had contact with:   \n",
    "     - a suspected, probable or confirmed Ebola case;   \n",
    "     - a dead or sick animal (for Ebola)   \n",
    "1.\tOR:  any person with sudden onset of high fever and at least three of the following symptoms: headaches, vomiting, anorexia/loss of appetite,   diarrhea, lethargy, stomach pain, aching muscles or joints, difficulty swallowing, breathing difficulties, hiccup   \n",
    "1.\tOR:  any person with inexplicable bleeding   \n",
    "1.\tOR:  any sudden, inexplicable death.   \n",
    "\n",
    "##\tPROBABLE CASE \n",
    "1.\tAny suspected case evaluated by a clinician   \n",
    "1.\tOR: Any deceased suspected case (where it has not been possible to collect specimens for laboratory confirmation) having an epidemiological link with a confirmed case  \n",
    "\n",
    "##\tCONFIRM CASE  \n",
    "Any suspected or probably cases with a positive laboratory result. Laboratory confirmed cases must test positive for the virus antigen, either by detection of virus RNA by reverse transcriptase-polymerase chain reaction (RT- PCR), or by detection of IgM antibodies directed against Ebola.\n"
   ]
  },
  {
   "cell_type": "markdown",
   "metadata": {},
   "source": [
    "#  Chinese government activities\n",
    "##  Offer cash and supplies\n",
    "China has responded in a timely manner since the Ebola virus outbreak and offered assistance by providing cash, disease prevention supplies, food assistance, mobile laboratories, P2 and P3 labs, ETU, as well as other things.  \n",
    "## Prevent Ebola back home\t\n",
    "Almost at the same time, China began to undertake Ebola prevention and control measures back home  \n",
    "1.\tMonitoring passengers arriving from Ebola-affected countries for fevers  \n",
    "1.\tSet up a joint prevention and control mechanism consisting of 22 central   ministries to address Ebola prevention and control and to develop a contingency plan for the outbreak  \n",
    "1.\tDevelopment of Ebola diagnostic kits and medical countermeasures  \n",
    "1.\tHealth authority distributed clinical guidelines on Ebola response to all local health administrations and hospitals in China  \n",
    "1.\tEbola outbreak data collection, analysis, visualization and sharing  \n",
    "\n",
    "## Dispatch experts \n",
    "Deployment of medical teams, laboratory and public health experts to the affected African countries  \n",
    "1.\tsent three teams of infectious disease experts to assist local medical professionals in the Ebola-stricken countries  \n",
    "1.\tChinese laboratory team departed for Sierra Leone to help the country build its lab testing capacity  \n",
    "1.\tSend an additional 1000 medical staff to help fight the outbreak  \n",
    "1.\tChinese health workers trained 12 000 local medical and public health personnel  \n"
   ]
  },
  {
   "cell_type": "markdown",
   "metadata": {},
   "source": [
    "#  Procedure of Ebola outbreak data collection, analysis and visualizatio\n",
    "##\tRoadmap\n",
    "<h5 align=\"center\">Transforming data into information and evidence</h5>\n",
    "    <img src=\"resource/roadmap.png\" width=800/>\n",
    "    \n",
    ">  Source: Framework and Standards for Country Health Information Systems Second edition, WHO, Health metrics network\n"
   ]
  },
  {
   "cell_type": "markdown",
   "metadata": {},
   "source": [
    "## \tBasic info collection\n",
    "### \tPopulation\n",
    "<img src=\"resource/population.jpg\" width=800/>\n",
    "<img src=\"resource/population_grid.jpg\" width=800/>\n",
    "<h5 align=\"center\">1km grid population</h5>\n",
    "### \tRoads, rivers, city and so on  \n",
    "<img src=\"resource/sierra_leone.jpg\" width=800/>\n",
    "### \tETU in three western countries \n",
    "<img src=\"resource/etu.png\" width=800/>"
   ]
  }
 ],
 "metadata": {
  "celltoolbar": "Raw Cell Format",
  "kernelspec": {
   "display_name": "Python 3",
   "language": "python",
   "name": "python3"
  },
  "language_info": {
   "codemirror_mode": {
    "name": "ipython",
    "version": 3
   },
   "file_extension": ".py",
   "mimetype": "text/x-python",
   "name": "python",
   "nbconvert_exporter": "python",
   "pygments_lexer": "ipython3",
   "version": "3.6.5"
  },
  "toc": {
   "base_numbering": 1,
   "nav_menu": {},
   "number_sections": true,
   "sideBar": true,
   "skip_h1_title": false,
   "title_cell": "Table of Contents",
   "title_sidebar": "Contents",
   "toc_cell": true,
   "toc_position": {
    "height": "calc(100% - 180px)",
    "left": "10px",
    "top": "150px",
    "width": "300px"
   },
   "toc_section_display": true,
   "toc_window_display": true
  }
 },
 "nbformat": 4,
 "nbformat_minor": 2
}
